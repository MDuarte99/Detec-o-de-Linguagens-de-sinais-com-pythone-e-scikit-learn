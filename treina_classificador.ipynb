{
 "cells": [
  {
   "cell_type": "code",
   "execution_count": 272,
   "id": "4b66a207-22fb-4cc6-adda-653b6d3309b6",
   "metadata": {},
   "outputs": [],
   "source": [
    "# traina classificador \n",
    "import pickle\n",
    "import numpy as np\n",
    "\n",
    "# Por Random Forest\n",
    "from sklearn.ensemble import RandomForestClassifier\n",
    "from sklearn.model_selection import train_test_split\n",
    "from sklearn.metrics import accuracy_score"
   ]
  },
  {
   "cell_type": "code",
   "execution_count": 274,
   "id": "e215cd76-f9f6-442c-a3b3-39d9253b6111",
   "metadata": {},
   "outputs": [],
   "source": [
    "data_dict = pickle.load(open('./data.pickle', 'rb')) # carrega data set\n",
    "\n",
    "# Conversão de lista para numpy, utilizando função de keras para garantir que seja truncado no maxímo de 42 elementos\n",
    "data = pad_sequences(data_dict['data'], maxlen=42, padding='post', truncating='post', dtype='float32')\n",
    "labels = np.asarray(data_dict['labels'])\n"
   ]
  },
  {
   "cell_type": "code",
   "execution_count": 276,
   "id": "fa6b1335-8265-40eb-a338-fcc48c152499",
   "metadata": {},
   "outputs": [],
   "source": [
    "x_train, x_test, y_train, y_test = train_test_split(data, labels, test_size=0.2, shuffle=True, stratify=labels)"
   ]
  },
  {
   "cell_type": "code",
   "execution_count": 278,
   "id": "0ec5397d-cf9d-45a5-8183-63e98e4d0ef9",
   "metadata": {},
   "outputs": [
    {
     "name": "stdout",
     "output_type": "stream",
     "text": [
      "100.00% Das amostra classificadas como corretamente!\n"
     ]
    }
   ],
   "source": [
    "model = RandomForestClassifier()\n",
    "\n",
    "model.fit(x_train, y_train)\n",
    "\n",
    "y_predict = model.predict(x_test)\n",
    "\n",
    "score = accuracy_score(y_predict, y_test)\n",
    "\n",
    "print(f'{score * 100:.2f}% Das amostra classificadas como corretamente!')\n",
    "\n",
    "# salve o modelo treinado\n",
    "f = open('model.p', 'wb')\n",
    "pickle.dump({'model': model}, f)\n",
    "f.close()\n"
   ]
  },
  {
   "cell_type": "code",
   "execution_count": null,
   "id": "1a8f345f-608e-4c39-9414-aaffd85f0511",
   "metadata": {},
   "outputs": [],
   "source": []
  }
 ],
 "metadata": {
  "kernelspec": {
   "display_name": "Python 3 (ipykernel)",
   "language": "python",
   "name": "python3"
  },
  "language_info": {
   "codemirror_mode": {
    "name": "ipython",
    "version": 3
   },
   "file_extension": ".py",
   "mimetype": "text/x-python",
   "name": "python",
   "nbconvert_exporter": "python",
   "pygments_lexer": "ipython3",
   "version": "3.12.4"
  }
 },
 "nbformat": 4,
 "nbformat_minor": 5
}
