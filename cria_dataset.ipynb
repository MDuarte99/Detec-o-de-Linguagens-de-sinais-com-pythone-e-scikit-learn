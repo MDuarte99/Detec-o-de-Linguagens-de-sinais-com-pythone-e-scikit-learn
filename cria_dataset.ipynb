{
 "cells": [
  {
   "cell_type": "code",
   "execution_count": 197,
   "id": "eecff096-ef31-4017-b1d5-66c6adb730b5",
   "metadata": {},
   "outputs": [],
   "source": [
    "import os\n",
    "import pickle\n",
    "\n",
    "import mediapipe as mp\n",
    "import cv2\n",
    "import matplotlib.pyplot as plt"
   ]
  },
  {
   "cell_type": "code",
   "execution_count": 199,
   "id": "fdd6e8ac-0c46-4173-b5f0-84695693bc0e",
   "metadata": {},
   "outputs": [],
   "source": [
    "# Desenha o ponto de captura da imagem\n",
    "mp_hands = mp.solutions.hands\n",
    "mp_drawing = mp.solutions.drawing_utils\n",
    "mp_drawing_styles = mp.solutions.drawing_styles\n",
    "\n",
    "# Modelo de captura\n",
    "hands = mp_hands.Hands(static_image_mode=True, min_detection_confidence=0.3)\n"
   ]
  },
  {
   "cell_type": "code",
   "execution_count": 201,
   "id": "7d2c948e-a6c0-45cc-ba91-e5543ffc2959",
   "metadata": {},
   "outputs": [],
   "source": [
    "DATA_DIR = './data'\n",
    "\n",
    "# por enquanto são listas\n",
    "data = [] # variáveis para salvar os dados, \n",
    "labels = [] # catégorias para salvar os rotulos"
   ]
  },
  {
   "cell_type": "code",
   "execution_count": null,
   "id": "27893f98-6dcc-49bd-bebb-5effaf4c811a",
   "metadata": {},
   "outputs": [],
   "source": [
    "# Configuração do detector de mãos para uma imagem como um exemplo\n",
    "hands = mp_hands.Hands()\n",
    "\n",
    "# Plotando cada imagem de cada classe\n",
    "for dir_ in os.listdir(DATA_DIR):\n",
    "    for img_path in os.listdir(os.path.join(DATA_DIR, dir_))[:1]:  # Aqui você pode ajustar para pegar mais imagens\n",
    "        img = cv2.imread(os.path.join(DATA_DIR, dir_, img_path))\n",
    "        \n",
    "        # Conversão necessária para o plot\n",
    "        img_rgb = cv2.cvtColor(img, cv2.COLOR_BGR2RGB)\n",
    "        \n",
    "        # Detecta os pontos de interesse na imagem\n",
    "        results = hands.process(img_rgb)\n",
    "        \n",
    "        if results.multi_hand_landmarks:\n",
    "            for hand_landmarks in results.multi_hand_landmarks:\n",
    "                # Desenhando os marcos das mãos e as conexões\n",
    "                mp_drawing.draw_landmarks(\n",
    "                    img_rgb,  # Imagem onde os marcos serão desenhados\n",
    "                    hand_landmarks,  # Resultados do modelo\n",
    "                    mp_hands.HAND_CONNECTIONS,  # Conexões da mão\n",
    "                    mp_drawing_styles.get_default_hand_landmarks_style(),  # Estilo para os marcos\n",
    "                    mp_drawing_styles.get_default_hand_connections_style()  # Estilo para as conexões\n",
    "                )\n",
    "\n",
    "        # Exibindo a imagem com os marcos e conexões\n",
    "        plt.figure()\n",
    "        plt.imshow(img_rgb)\n",
    "\n",
    "plt.show()"
   ]
  },
  {
   "cell_type": "code",
   "execution_count": 204,
   "id": "11660192-0dbf-4076-bfdb-b9890db32351",
   "metadata": {},
   "outputs": [],
   "source": [
    "# pegando todas marcações em um vetor\n",
    "# para cada marcações existe 3 marcações x(horizontal) y (verticaL) z\n",
    "\n",
    "for dir_ in os.listdir(DATA_DIR):\n",
    "    for img_path in os.listdir(os.path.join(DATA_DIR, dir_)):\n",
    "        data_aux = []\n",
    "\n",
    "        x_ = []\n",
    "        y_ = []\n",
    "\n",
    "        img = cv2.imread(os.path.join(DATA_DIR, dir_, img_path))\n",
    "        img_rgb = cv2.cvtColor(img, cv2.COLOR_BGR2RGB)\n",
    "\n",
    "        results = hands.process(img_rgb)\n",
    "        if results.multi_hand_landmarks:\n",
    "            for hand_landmarks in results.multi_hand_landmarks:\n",
    "                for i in range(len(hand_landmarks.landmark)):\n",
    "                    x = hand_landmarks.landmark[i].x\n",
    "                    y = hand_landmarks.landmark[i].y\n",
    "\n",
    "                    x_.append(x)\n",
    "                    y_.append(y)\n",
    "\n",
    "                for i in range(len(hand_landmarks.landmark)):\n",
    "                    x = hand_landmarks.landmark[i].x\n",
    "                    y = hand_landmarks.landmark[i].y\n",
    "                    data_aux.append(x - min(x_))\n",
    "                    data_aux.append(y - min(y_))\n",
    "\n",
    "            data.append(data_aux)\n",
    "            labels.append(dir_)"
   ]
  },
  {
   "cell_type": "code",
   "execution_count": 206,
   "id": "220a3d2a-7fd8-4f48-9486-cf5ff245fe97",
   "metadata": {},
   "outputs": [],
   "source": [
    "# Salvar os dados\n",
    "f = open('data.pickle','wb')\n",
    "pickle.dump({'data':data,'labels':labels},f)\n",
    "f.close()"
   ]
  },
  {
   "cell_type": "code",
   "execution_count": null,
   "id": "b495bac2-ad74-406c-8b94-d49e19e3b738",
   "metadata": {},
   "outputs": [],
   "source": []
  }
 ],
 "metadata": {
  "kernelspec": {
   "display_name": "Python 3 (ipykernel)",
   "language": "python",
   "name": "python3"
  },
  "language_info": {
   "codemirror_mode": {
    "name": "ipython",
    "version": 3
   },
   "file_extension": ".py",
   "mimetype": "text/x-python",
   "name": "python",
   "nbconvert_exporter": "python",
   "pygments_lexer": "ipython3",
   "version": "3.12.4"
  }
 },
 "nbformat": 4,
 "nbformat_minor": 5
}
